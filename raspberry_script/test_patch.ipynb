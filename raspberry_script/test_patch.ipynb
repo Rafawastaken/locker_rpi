{
 "cells": [
  {
   "cell_type": "code",
   "execution_count": 19,
   "metadata": {},
   "outputs": [],
   "source": [
    "import requests\n",
    "import json"
   ]
  },
  {
   "cell_type": "code",
   "execution_count": 20,
   "metadata": {},
   "outputs": [],
   "source": [
    "file = open(\"creds.json\")\n",
    "data = json.load(file)\n",
    "\n",
    "auth = (data['username'], data['password'])"
   ]
  },
  {
   "cell_type": "code",
   "execution_count": 21,
   "metadata": {},
   "outputs": [],
   "source": [
    "target_patch = \"http://127.0.0.1:5000/device_patch/24\"\n",
    "target_get = \"http://127.0.0.1:5000/devices_status\""
   ]
  },
  {
   "cell_type": "code",
   "execution_count": 40,
   "metadata": {},
   "outputs": [
    {
     "name": "stdout",
     "output_type": "stream",
     "text": [
      "{\n",
      "    \"estado\": true\n",
      "}\n",
      "\n"
     ]
    }
   ],
   "source": [
    "patch = requests.patch(target_patch, auth = auth, data = {\"estado\":\"True\"})\n",
    "print(patch.text)\n"
   ]
  },
  {
   "cell_type": "code",
   "execution_count": 37,
   "metadata": {},
   "outputs": [
    {
     "name": "stdout",
     "output_type": "stream",
     "text": [
      "[\n",
      "    {\n",
      "        \"nome\": \"Porta 1\",\n",
      "        \"pin\": 16,\n",
      "        \"estado\": true\n",
      "    },\n",
      "    {\n",
      "        \"nome\": \"Porta 2\",\n",
      "        \"pin\": 18,\n",
      "        \"estado\": true\n",
      "    },\n",
      "    {\n",
      "        \"nome\": \"Porta 3\",\n",
      "        \"pin\": 22,\n",
      "        \"estado\": true\n",
      "    },\n",
      "    {\n",
      "        \"nome\": \"Porta 4\",\n",
      "        \"pin\": 24,\n",
      "        \"estado\": false\n",
      "    }\n",
      "]\n",
      "\n"
     ]
    }
   ],
   "source": [
    "get = requests.get(target_get, auth = auth)\n",
    "print(get.text)"
   ]
  },
  {
   "cell_type": "code",
   "execution_count": null,
   "metadata": {},
   "outputs": [],
   "source": []
  }
 ],
 "metadata": {
  "kernelspec": {
   "display_name": "Python 3.8.10 ('venv': venv)",
   "language": "python",
   "name": "python3"
  },
  "language_info": {
   "codemirror_mode": {
    "name": "ipython",
    "version": 3
   },
   "file_extension": ".py",
   "mimetype": "text/x-python",
   "name": "python",
   "nbconvert_exporter": "python",
   "pygments_lexer": "ipython3",
   "version": "3.8.10"
  },
  "orig_nbformat": 4,
  "vscode": {
   "interpreter": {
    "hash": "20adc20c09081d38c658499052697e3c99af67cc3228960816323eb4950d1d1f"
   }
  }
 },
 "nbformat": 4,
 "nbformat_minor": 2
}
